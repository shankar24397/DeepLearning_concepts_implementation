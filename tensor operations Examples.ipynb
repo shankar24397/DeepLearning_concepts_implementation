{
 "cells": [
  {
   "cell_type": "code",
   "execution_count": 1,
   "metadata": {},
   "outputs": [],
   "source": [
    "import tensorflow as tf\n"
   ]
  },
  {
   "cell_type": "code",
   "execution_count": 3,
   "metadata": {},
   "outputs": [
    {
     "name": "stdout",
     "output_type": "stream",
     "text": [
      "tf.Tensor(10, shape=(), dtype=int32)\n"
     ]
    }
   ],
   "source": [
    "var1 = tf.constant(4)\n",
    "var2 = tf.constant(6)\n",
    "add = tf.add(var1 ,var2)\n",
    "sub = tf.subtract(var1 ,var2)\n",
    "mul = tf.multiply(var1 ,var2)\n",
    "div = tf.divide(var1 ,var2)\n",
    "print(add)"
   ]
  },
  {
   "cell_type": "code",
   "execution_count": 4,
   "metadata": {},
   "outputs": [
    {
     "name": "stdout",
     "output_type": "stream",
     "text": [
      "10\n",
      "-2\n",
      "24\n",
      "0.6666666666666666\n"
     ]
    }
   ],
   "source": [
    "print(add.numpy())\n",
    "print(sub.numpy())\n",
    "print(mul.numpy())\n",
    "print(div.numpy())"
   ]
  },
  {
   "cell_type": "code",
   "execution_count": 9,
   "metadata": {},
   "outputs": [
    {
     "name": "stdout",
     "output_type": "stream",
     "text": [
      "5\n",
      "6\n"
     ]
    }
   ],
   "source": [
    "mean = tf.reduce_mean([var1,var2])\n",
    "print(mean.numpy())\n",
    "maximum = tf.reduce_max([var1,var2])\n",
    "print(maximum.numpy())"
   ]
  },
  {
   "cell_type": "markdown",
   "metadata": {},
   "source": [
    "Matrix Multiplication"
   ]
  },
  {
   "cell_type": "code",
   "execution_count": 11,
   "metadata": {},
   "outputs": [
    {
     "name": "stdout",
     "output_type": "stream",
     "text": [
      "[[12 60]\n",
      " [12 60]]\n"
     ]
    }
   ],
   "source": [
    "matrix1= tf.constant([[1,5], [1,5]])\n",
    "matrix2= tf.constant([[2,10], [2,10]])\n",
    "\n",
    "# these are 2*2 matrix\n",
    "#using matrix multiplication : matmul function \n",
    "product = tf.matmul(matrix1 , matrix2)\n",
    "\n",
    "print(product.numpy())\n"
   ]
  },
  {
   "cell_type": "code",
   "execution_count": 18,
   "metadata": {},
   "outputs": [
    {
     "data": {
      "text/plain": [
       "<tensorflow.python.eager.context._EagerDeviceContext at 0x16e9edcb520>"
      ]
     },
     "execution_count": 18,
     "metadata": {},
     "output_type": "execute_result"
    }
   ],
   "source": [
    "tf.device('/gpu:00')"
   ]
  },
  {
   "cell_type": "code",
   "execution_count": null,
   "metadata": {},
   "outputs": [],
   "source": []
  }
 ],
 "metadata": {
  "kernelspec": {
   "display_name": "Python 3",
   "language": "python",
   "name": "python3"
  },
  "language_info": {
   "codemirror_mode": {
    "name": "ipython",
    "version": 3
   },
   "file_extension": ".py",
   "mimetype": "text/x-python",
   "name": "python",
   "nbconvert_exporter": "python",
   "pygments_lexer": "ipython3",
   "version": "3.8.3"
  }
 },
 "nbformat": 4,
 "nbformat_minor": 4
}
